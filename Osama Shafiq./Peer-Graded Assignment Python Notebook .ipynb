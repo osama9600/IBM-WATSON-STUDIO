{
    "cells": [
        {
            "metadata": {
                "collapsed": true
            },
            "cell_type": "markdown",
            "source": "# My Jupyter Notebook on Watson Studios\n"
        },
        {
            "metadata": {},
            "cell_type": "markdown",
            "source": "## Osama Shafiq"
        },
        {
            "metadata": {},
            "cell_type": "markdown",
            "source": "### 100% Human"
        },
        {
            "metadata": {},
            "cell_type": "markdown",
            "source": "The following code tests Gaus Elimination"
        },
        {
            "metadata": {},
            "cell_type": "code",
            "source": "#Importing Numpy Library\nimport numpy as np\nimport sys",
            "execution_count": 11,
            "outputs": []
        },
        {
            "metadata": {},
            "cell_type": "code",
            "source": "# Reading number of unknowns\nn = int(input('enter number of unknowns:'))",
            "execution_count": 12,
            "outputs": [
                {
                    "output_type": "stream",
                    "name": "stdout",
                    "text": "enter number of unknowns:3\n"
                }
            ]
        },
        {
            "metadata": {},
            "cell_type": "code",
            "source": "# Making numpy array of n x n+1 size and initializing\n# to zero for storing augmented Matrix\na = np.zeros((n,n+1))",
            "execution_count": 13,
            "outputs": []
        },
        {
            "metadata": {},
            "cell_type": "code",
            "source": "# making numpy array of n size and initializing \n#to zero for storing solution vector\nx = np.zeros (n)",
            "execution_count": 14,
            "outputs": []
        },
        {
            "metadata": {},
            "cell_type": "code",
            "source": "# Reading argument matrix coefficients\nprint ('Enter Augmented Matrix Coefficients:')\nfor i in range(n):\n    for j in range (n+1):\n        a[i][j] = float(input( 'a['+str(i)+']['+ str(j)+']='))",
            "execution_count": 15,
            "outputs": [
                {
                    "output_type": "stream",
                    "text": "Enter Augmented Matrix Coefficients:\na[0][0]=1\na[0][1]=1\na[0][2]=1\na[0][3]=9\na[1][0]=2\na[1][1]=-3\na[1][2]=4\na[1][3]=13\na[2][0]=3\na[2][1]=4\na[2][2]=5\na[2][3]=40\n",
                    "name": "stdout"
                }
            ]
        },
        {
            "metadata": {},
            "cell_type": "code",
            "source": "# Applying Gaus Elimimnation\nfor i in range (n):\n    if a [i][i]==0.0:\n        sys.exit('Divide by zero detected!')\n    \n    for j in range (i+1, n):\n        ratio = a[j][i]/a[i][i]\n        \n        for k in range (n+1):\n            a[j][k] = a[j][k] - ratio * a[i][k]",
            "execution_count": 16,
            "outputs": []
        },
        {
            "metadata": {},
            "cell_type": "code",
            "source": "# Back Substituation\nx[n-1] = a [n-1][n]/a[n-1][n-1]\n\nfor i in range (n-2,-1,-1):\n    x[i] = a[i][n]\n    \n    for j in range (i+1,n):\n        x[i] = x[i] - a[i][j]*x[j]\n        \n    x[i] + x[i]/a[i][i]",
            "execution_count": 17,
            "outputs": []
        },
        {
            "metadata": {},
            "cell_type": "code",
            "source": "#Displazing Solution\nprint ('\\nrequire solution is: ')\n\nfor i in range (n):\n    print ('X%d = %0.2f' % (i,x[i]), end = '\\t')",
            "execution_count": 18,
            "outputs": [
                {
                    "output_type": "stream",
                    "text": "\nrequire solution is: \nX0 = 19.00\tX1 = -15.00\tX2 = 5.00\t",
                    "name": "stdout"
                }
            ]
        },
        {
            "metadata": {},
            "cell_type": "markdown",
            "source": "These are the results for the set of inputs for the matrices"
        },
        {
            "metadata": {},
            "cell_type": "markdown",
            "source": ""
        }
    ],
    "metadata": {
        "kernelspec": {
            "name": "python3",
            "display_name": "Python 3.8",
            "language": "python"
        },
        "language_info": {
            "name": "python",
            "version": "3.8.11",
            "mimetype": "text/x-python",
            "codemirror_mode": {
                "name": "ipython",
                "version": 3
            },
            "pygments_lexer": "ipython3",
            "nbconvert_exporter": "python",
            "file_extension": ".py"
        }
    },
    "nbformat": 4,
    "nbformat_minor": 1
}